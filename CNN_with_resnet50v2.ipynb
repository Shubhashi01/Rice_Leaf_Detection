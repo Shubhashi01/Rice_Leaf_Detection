{
  "cells": [
    {
      "cell_type": "markdown",
      "id": "gfiu-XjXobrn",
      "metadata": {
        "id": "gfiu-XjXobrn"
      },
      "source": [
        "# Taking Dataset from Drive"
      ]
    },
    {
      "cell_type": "code",
      "execution_count": 1,
      "id": "gGrfjgZUEm5B",
      "metadata": {
        "colab": {
          "base_uri": "https://localhost:8080/"
        },
        "id": "gGrfjgZUEm5B",
        "outputId": "8cc05a2c-a615-419d-def4-9179131e3a06"
      },
      "outputs": [
        {
          "name": "stdout",
          "output_type": "stream",
          "text": [
            "Drive already mounted at /content/drive; to attempt to forcibly remount, call drive.mount(\"/content/drive\", force_remount=True).\n"
          ]
        }
      ],
      "source": [
        "from google.colab import drive\n",
        "drive.mount('/content/drive')"
      ]
    },
    {
      "cell_type": "markdown",
      "id": "A2zoVu54ojrt",
      "metadata": {
        "id": "A2zoVu54ojrt"
      },
      "source": [
        "# Importing Libraries"
      ]
    },
    {
      "cell_type": "code",
      "execution_count": 2,
      "id": "u3UG7zfsH_ZJ",
      "metadata": {
        "id": "u3UG7zfsH_ZJ"
      },
      "outputs": [],
      "source": [
        "import keras\n",
        "from keras import Sequential\n",
        "from keras.applications import MobileNetV2\n",
        "from keras.layers import Dense\n",
        "from keras.preprocessing import image"
      ]
    },
    {
      "cell_type": "code",
      "execution_count": 3,
      "id": "seasonal-zambia",
      "metadata": {
        "execution": {
          "iopub.execute_input": "2021-05-04T10:23:46.127177Z",
          "iopub.status.busy": "2021-05-04T10:23:46.126118Z",
          "iopub.status.idle": "2021-05-04T10:23:52.616651Z",
          "shell.execute_reply": "2021-05-04T10:23:52.615907Z"
        },
        "id": "seasonal-zambia",
        "papermill": {
          "duration": 6.508656,
          "end_time": "2021-05-04T10:23:52.616804",
          "exception": false,
          "start_time": "2021-05-04T10:23:46.108148",
          "status": "completed"
        },
        "tags": []
      },
      "outputs": [],
      "source": [
        "import numpy as np\n",
        "import pandas as pd\n",
        "import os\n",
        "import matplotlib.pyplot as plt\n",
        "import seaborn as sns\n",
        "import tensorflow as tf\n",
        "from tensorflow.keras.utils import to_categorical\n",
        "from tensorflow.keras.preprocessing.image import load_img, img_to_array\n",
        "from tensorflow.python.keras.preprocessing.image import ImageDataGenerator\n",
        "from sklearn.metrics import classification_report, log_loss, accuracy_score\n",
        "from sklearn.model_selection import train_test_split"
      ]
    },
    {
      "cell_type": "code",
      "execution_count": 4,
      "id": "historic-payment",
      "metadata": {
        "execution": {
          "iopub.execute_input": "2021-05-04T10:23:52.649218Z",
          "iopub.status.busy": "2021-05-04T10:23:52.648619Z",
          "iopub.status.idle": "2021-05-04T10:23:52.651553Z",
          "shell.execute_reply": "2021-05-04T10:23:52.651067Z"
        },
        "id": "historic-payment",
        "papermill": {
          "duration": 0.021125,
          "end_time": "2021-05-04T10:23:52.651690",
          "exception": false,
          "start_time": "2021-05-04T10:23:52.630565",
          "status": "completed"
        },
        "tags": []
      },
      "outputs": [],
      "source": [
        "directory = '/content/drive/MyDrive/rice'"
      ]
    },
    {
      "cell_type": "markdown",
      "id": "PIS4YUn9osN4",
      "metadata": {
        "id": "PIS4YUn9osN4"
      },
      "source": [
        "# Target Class"
      ]
    },
    {
      "cell_type": "code",
      "execution_count": 5,
      "id": "tUa0MOmZXGz8",
      "metadata": {
        "colab": {
          "base_uri": "https://localhost:8080/"
        },
        "id": "tUa0MOmZXGz8",
        "outputId": "2e4cc623-d889-41dc-e7e4-2e23d4a75cf5"
      },
      "outputs": [
        {
          "name": "stdout",
          "output_type": "stream",
          "text": [
            "['blast', 'blight', 'tungro']\n",
            "3\n"
          ]
        }
      ],
      "source": [
        "Class=[]\n",
        "for file in os.listdir(directory):\n",
        "    Class+=[file]\n",
        "print(Class)\n",
        "print(len(Class))"
      ]
    },
    {
      "cell_type": "markdown",
      "id": "r8Tiq7KqozM-",
      "metadata": {
        "id": "r8Tiq7KqozM-"
      },
      "source": [
        "# Mapping the Images"
      ]
    },
    {
      "cell_type": "code",
      "execution_count": 6,
      "id": "freelance-tobago",
      "metadata": {
        "execution": {
          "iopub.execute_input": "2021-05-04T10:23:52.731636Z",
          "iopub.status.busy": "2021-05-04T10:23:52.730840Z",
          "iopub.status.idle": "2021-05-04T10:23:52.733985Z",
          "shell.execute_reply": "2021-05-04T10:23:52.733443Z"
        },
        "id": "freelance-tobago",
        "papermill": {
          "duration": 0.02203,
          "end_time": "2021-05-04T10:23:52.734108",
          "exception": false,
          "start_time": "2021-05-04T10:23:52.712078",
          "status": "completed"
        },
        "tags": []
      },
      "outputs": [],
      "source": [
        "Map=[]\n",
        "for i in range(len(Class)):\n",
        "    Map = Map+[i]\n",
        "    \n",
        "normal_mapping=dict(zip(Class,Map)) \n",
        "reverse_mapping=dict(zip(Map,Class)) \n",
        "\n",
        "def mapper(value):\n",
        "    return reverse_mapping[value]"
      ]
    },
    {
      "cell_type": "code",
      "execution_count": 7,
      "id": "xVuF8Z_8Xzbk",
      "metadata": {
        "id": "xVuF8Z_8Xzbk"
      },
      "outputs": [],
      "source": [
        "set1=[]\n",
        "set2=[]\n",
        "count=0\n",
        "for i in Class:\n",
        "    path=os.path.join(directory,i)\n",
        "    t=0\n",
        "    for image in os.listdir(path):\n",
        "        if image[-4:]=='.jpg':\n",
        "            imagee=load_img(os.path.join(path,image), grayscale=False, color_mode='rgb', target_size=(100,100))\n",
        "            imagee=img_to_array(imagee)\n",
        "            imagee=imagee/255.0\n",
        "            if t<60:\n",
        "                set1.append([imagee,count])\n",
        "            else:   \n",
        "                set2.append([imagee,count])\n",
        "            t+=1\n",
        "    count=count+1"
      ]
    },
    {
      "cell_type": "markdown",
      "id": "BWJpSjVfo9HG",
      "metadata": {
        "id": "BWJpSjVfo9HG"
      },
      "source": [
        "# Dividing Data and Test "
      ]
    },
    {
      "cell_type": "code",
      "execution_count": 8,
      "id": "9oqATDtRaA6E",
      "metadata": {
        "id": "9oqATDtRaA6E"
      },
      "outputs": [],
      "source": [
        "data, dataa=zip(*set1)\n",
        "test, test_test=zip(*set2)"
      ]
    },
    {
      "cell_type": "code",
      "execution_count": 9,
      "id": "hFlEL6g6aVYT",
      "metadata": {
        "id": "hFlEL6g6aVYT"
      },
      "outputs": [],
      "source": [
        "label=to_categorical(dataa)\n",
        "X=np.array(data)\n",
        "y=np.array(label)"
      ]
    },
    {
      "cell_type": "code",
      "execution_count": 10,
      "id": "molecular-receptor",
      "metadata": {
        "execution": {
          "iopub.execute_input": "2021-05-04T10:24:03.138506Z",
          "iopub.status.busy": "2021-05-04T10:24:03.137908Z",
          "iopub.status.idle": "2021-05-04T10:24:03.146744Z",
          "shell.execute_reply": "2021-05-04T10:24:03.146214Z"
        },
        "id": "molecular-receptor",
        "papermill": {
          "duration": 0.02565,
          "end_time": "2021-05-04T10:24:03.146877",
          "exception": false,
          "start_time": "2021-05-04T10:24:03.121227",
          "status": "completed"
        },
        "tags": []
      },
      "outputs": [],
      "source": [
        "labell=to_categorical(test_test)\n",
        "test=np.array(test)\n",
        "labell=np.array(labell)"
      ]
    },
    {
      "cell_type": "code",
      "execution_count": 11,
      "id": "afraid-pasta",
      "metadata": {
        "colab": {
          "base_uri": "https://localhost:8080/"
        },
        "execution": {
          "iopub.execute_input": "2021-05-04T10:24:03.180474Z",
          "iopub.status.busy": "2021-05-04T10:24:03.179785Z",
          "iopub.status.idle": "2021-05-04T10:24:03.183940Z",
          "shell.execute_reply": "2021-05-04T10:24:03.183379Z"
        },
        "id": "afraid-pasta",
        "outputId": "95907ff9-87e9-472c-b648-086bee256153",
        "papermill": {
          "duration": 0.0228,
          "end_time": "2021-05-04T10:24:03.184069",
          "exception": false,
          "start_time": "2021-05-04T10:24:03.161269",
          "status": "completed"
        },
        "tags": []
      },
      "outputs": [
        {
          "name": "stdout",
          "output_type": "stream",
          "text": [
            "180\n",
            "60\n"
          ]
        }
      ],
      "source": [
        "print(len(y))\n",
        "print(len(labell))"
      ]
    },
    {
      "cell_type": "markdown",
      "id": "X3x5HRs5pEoW",
      "metadata": {
        "id": "X3x5HRs5pEoW"
      },
      "source": [
        "# Train Test Split"
      ]
    },
    {
      "cell_type": "code",
      "execution_count": 12,
      "id": "VB_EB4upbB7s",
      "metadata": {
        "id": "VB_EB4upbB7s"
      },
      "outputs": [],
      "source": [
        "X_train, X_test, y_train, y_test = train_test_split(X, y, test_size=0.2)"
      ]
    },
    {
      "cell_type": "code",
      "execution_count": 13,
      "id": "constant-customer",
      "metadata": {
        "colab": {
          "base_uri": "https://localhost:8080/"
        },
        "execution": {
          "iopub.execute_input": "2021-05-04T10:24:03.265395Z",
          "iopub.status.busy": "2021-05-04T10:24:03.264790Z",
          "iopub.status.idle": "2021-05-04T10:24:03.270525Z",
          "shell.execute_reply": "2021-05-04T10:24:03.270949Z"
        },
        "id": "constant-customer",
        "outputId": "0ad8bbba-f9a0-4bb3-e663-85441677da9e",
        "papermill": {
          "duration": 0.023379,
          "end_time": "2021-05-04T10:24:03.271112",
          "exception": false,
          "start_time": "2021-05-04T10:24:03.247733",
          "status": "completed"
        },
        "tags": []
      },
      "outputs": [
        {
          "name": "stdout",
          "output_type": "stream",
          "text": [
            "(144, 100, 100, 3) (36, 100, 100, 3)\n",
            "(144, 3) (36, 3)\n"
          ]
        }
      ],
      "source": [
        "print(X_train.shape,X_test.shape)\n",
        "print(y_train.shape,y_test.shape)"
      ]
    },
    {
      "cell_type": "markdown",
      "id": "sUhUKUyapO39",
      "metadata": {
        "id": "sUhUKUyapO39"
      },
      "source": [
        "# Image Generator"
      ]
    },
    {
      "cell_type": "code",
      "execution_count": 14,
      "id": "aKYr0D-ncF2i",
      "metadata": {
        "id": "aKYr0D-ncF2i"
      },
      "outputs": [],
      "source": [
        "generator = ImageDataGenerator(horizontal_flip=True,vertical_flip=True,rotation_range=20,zoom_range=0.2,\n",
        "                        width_shift_range=0.2,height_shift_range=0.2,shear_range=0.1,fill_mode=\"nearest\")"
      ]
    },
    {
      "cell_type": "markdown",
      "id": "SPo2ZYGPpR0N",
      "metadata": {
        "id": "SPo2ZYGPpR0N"
      },
      "source": [
        "# Calling Resnet50V2 Model"
      ]
    },
    {
      "cell_type": "code",
      "execution_count": 15,
      "id": "IwjGhgz5ryTU",
      "metadata": {
        "id": "IwjGhgz5ryTU"
      },
      "outputs": [],
      "source": [
        "from tensorflow.keras.applications import ResNet50V2\n",
        "resnet50v2 = tf.keras.applications.DenseNet201(input_shape=(100,100,3),include_top=False,weights='imagenet',pooling='avg')\n",
        "resnet50v2.trainable = False"
      ]
    },
    {
      "cell_type": "markdown",
      "id": "7xJiedgrpXgm",
      "metadata": {
        "id": "7xJiedgrpXgm"
      },
      "source": [
        "# Making Deep CNN Model"
      ]
    },
    {
      "cell_type": "code",
      "execution_count": 16,
      "id": "structural-democracy",
      "metadata": {
        "execution": {
          "iopub.execute_input": "2021-05-04T10:24:09.228644Z",
          "iopub.status.busy": "2021-05-04T10:24:09.226158Z",
          "iopub.status.idle": "2021-05-04T10:24:09.283565Z",
          "shell.execute_reply": "2021-05-04T10:24:09.282900Z"
        },
        "id": "structural-democracy",
        "papermill": {
          "duration": 0.083166,
          "end_time": "2021-05-04T10:24:09.283712",
          "exception": false,
          "start_time": "2021-05-04T10:24:09.200546",
          "status": "completed"
        },
        "tags": []
      },
      "outputs": [],
      "source": [
        "model_input = resnet50v2.input\n",
        "classifier = tf.keras.layers.Dense(128, activation='relu')(resnet50v2.output)\n",
        "classifier = tf.keras.layers.Dense(64, activation='relu')(resnet50v2.output)\n",
        "classifier = tf.keras.layers.Dense(512, activation='relu')(resnet50v2.output)\n",
        "classifier = tf.keras.layers.Dense(128, activation='relu')(resnet50v2.output)\n",
        "classifier = tf.keras.layers.Dense(256, activation='relu')(resnet50v2.output)\n",
        "model_output = tf.keras.layers.Dense(3, activation='sigmoid')(classifier)\n",
        "model = tf.keras.Model(inputs=model_input, outputs=model_output)"
      ]
    },
    {
      "cell_type": "markdown",
      "id": "WGUte4vzpbyu",
      "metadata": {
        "id": "WGUte4vzpbyu"
      },
      "source": [
        "# Compiling with ADAM Optimizer and Binary Crossentropy Loss Function"
      ]
    },
    {
      "cell_type": "code",
      "execution_count": 17,
      "id": "understanding-nudist",
      "metadata": {
        "execution": {
          "iopub.execute_input": "2021-05-04T10:24:09.339609Z",
          "iopub.status.busy": "2021-05-04T10:24:09.338664Z",
          "iopub.status.idle": "2021-05-04T10:24:09.349217Z",
          "shell.execute_reply": "2021-05-04T10:24:09.348519Z"
        },
        "id": "understanding-nudist",
        "papermill": {
          "duration": 0.046874,
          "end_time": "2021-05-04T10:24:09.349382",
          "exception": false,
          "start_time": "2021-05-04T10:24:09.302508",
          "status": "completed"
        },
        "tags": []
      },
      "outputs": [],
      "source": [
        "model.compile(optimizer='adam',loss='binary_crossentropy',metrics=['accuracy'])"
      ]
    },
    {
      "cell_type": "markdown",
      "id": "lHQJwXdfq4nl",
      "metadata": {
        "id": "lHQJwXdfq4nl"
      },
      "source": [
        "# Fitting the Dataset into Model"
      ]
    },
    {
      "cell_type": "code",
      "execution_count": 18,
      "id": "Bx8Pwnkrd8ra",
      "metadata": {
        "colab": {
          "base_uri": "https://localhost:8080/"
        },
        "id": "Bx8Pwnkrd8ra",
        "outputId": "b69ac98b-c828-4a46-d839-f1db2dd0ea27"
      },
      "outputs": [
        {
          "name": "stdout",
          "output_type": "stream",
          "text": [
            "Epoch 1/50\n",
            "5/5 [==============================] - 19s 1s/step - loss: 0.8226 - accuracy: 0.4309 - val_loss: 0.5457 - val_accuracy: 0.5556\n",
            "Epoch 2/50\n",
            "5/5 [==============================] - 1s 99ms/step - loss: 0.4008 - accuracy: 0.8104 - val_loss: 0.3669 - val_accuracy: 0.6667\n",
            "Epoch 3/50\n",
            "5/5 [==============================] - 1s 98ms/step - loss: 0.3141 - accuracy: 0.8288 - val_loss: 0.4243 - val_accuracy: 0.7500\n",
            "Epoch 4/50\n",
            "5/5 [==============================] - 1s 97ms/step - loss: 0.2641 - accuracy: 0.8968 - val_loss: 0.3114 - val_accuracy: 0.7500\n",
            "Epoch 5/50\n",
            "5/5 [==============================] - 1s 97ms/step - loss: 0.2143 - accuracy: 0.8530 - val_loss: 0.3521 - val_accuracy: 0.8333\n",
            "Epoch 6/50\n",
            "5/5 [==============================] - 1s 102ms/step - loss: 0.1752 - accuracy: 0.9215 - val_loss: 0.3219 - val_accuracy: 0.7778\n",
            "Epoch 7/50\n",
            "5/5 [==============================] - 1s 107ms/step - loss: 0.2260 - accuracy: 0.8718 - val_loss: 0.2696 - val_accuracy: 0.8611\n",
            "Epoch 8/50\n",
            "5/5 [==============================] - 1s 105ms/step - loss: 0.1460 - accuracy: 0.9580 - val_loss: 0.2882 - val_accuracy: 0.8611\n",
            "Epoch 9/50\n",
            "5/5 [==============================] - 1s 96ms/step - loss: 0.1257 - accuracy: 0.9189 - val_loss: 0.1928 - val_accuracy: 0.8889\n",
            "Epoch 10/50\n",
            "5/5 [==============================] - 1s 98ms/step - loss: 0.1109 - accuracy: 0.9438 - val_loss: 0.1757 - val_accuracy: 0.8889\n",
            "Epoch 11/50\n",
            "5/5 [==============================] - 1s 98ms/step - loss: 0.0989 - accuracy: 0.9725 - val_loss: 0.1808 - val_accuracy: 0.9167\n",
            "Epoch 12/50\n",
            "5/5 [==============================] - 1s 100ms/step - loss: 0.1049 - accuracy: 0.9589 - val_loss: 0.1725 - val_accuracy: 0.8889\n",
            "Epoch 13/50\n",
            "5/5 [==============================] - 1s 101ms/step - loss: 0.1308 - accuracy: 0.9201 - val_loss: 0.1796 - val_accuracy: 0.9167\n",
            "Epoch 14/50\n",
            "5/5 [==============================] - 1s 100ms/step - loss: 0.1348 - accuracy: 0.9333 - val_loss: 0.2048 - val_accuracy: 0.8889\n",
            "Epoch 15/50\n",
            "5/5 [==============================] - 1s 102ms/step - loss: 0.0789 - accuracy: 0.9718 - val_loss: 0.1606 - val_accuracy: 0.9167\n",
            "Epoch 16/50\n",
            "5/5 [==============================] - 1s 102ms/step - loss: 0.0987 - accuracy: 0.9622 - val_loss: 0.1764 - val_accuracy: 0.9444\n",
            "Epoch 17/50\n",
            "5/5 [==============================] - 1s 111ms/step - loss: 0.1024 - accuracy: 0.9632 - val_loss: 0.1827 - val_accuracy: 0.8889\n",
            "Epoch 18/50\n",
            "5/5 [==============================] - 1s 99ms/step - loss: 0.0888 - accuracy: 0.9735 - val_loss: 0.1735 - val_accuracy: 0.9444\n",
            "Epoch 19/50\n",
            "5/5 [==============================] - 1s 101ms/step - loss: 0.0764 - accuracy: 0.9863 - val_loss: 0.1698 - val_accuracy: 0.9167\n",
            "Epoch 20/50\n",
            "5/5 [==============================] - 1s 100ms/step - loss: 0.0947 - accuracy: 0.9815 - val_loss: 0.1836 - val_accuracy: 0.8889\n",
            "Epoch 21/50\n",
            "5/5 [==============================] - 1s 102ms/step - loss: 0.0720 - accuracy: 0.9739 - val_loss: 0.2145 - val_accuracy: 0.8889\n",
            "Epoch 22/50\n",
            "5/5 [==============================] - 1s 99ms/step - loss: 0.0621 - accuracy: 0.9866 - val_loss: 0.1684 - val_accuracy: 0.8889\n",
            "Epoch 23/50\n",
            "5/5 [==============================] - 1s 113ms/step - loss: 0.0556 - accuracy: 0.9836 - val_loss: 0.1426 - val_accuracy: 0.9167\n",
            "Epoch 24/50\n",
            "5/5 [==============================] - 1s 102ms/step - loss: 0.0497 - accuracy: 0.9811 - val_loss: 0.1330 - val_accuracy: 0.9167\n",
            "Epoch 25/50\n",
            "5/5 [==============================] - 1s 97ms/step - loss: 0.0644 - accuracy: 0.9757 - val_loss: 0.1414 - val_accuracy: 0.9167\n",
            "Epoch 26/50\n",
            "5/5 [==============================] - 1s 100ms/step - loss: 0.0448 - accuracy: 0.9895 - val_loss: 0.1488 - val_accuracy: 0.9167\n",
            "Epoch 27/50\n",
            "5/5 [==============================] - 1s 100ms/step - loss: 0.0807 - accuracy: 0.9544 - val_loss: 0.1443 - val_accuracy: 0.9167\n",
            "Epoch 28/50\n",
            "5/5 [==============================] - 1s 101ms/step - loss: 0.0575 - accuracy: 0.9939 - val_loss: 0.1195 - val_accuracy: 0.9167\n",
            "Epoch 29/50\n",
            "5/5 [==============================] - 1s 98ms/step - loss: 0.0536 - accuracy: 0.9977 - val_loss: 0.1169 - val_accuracy: 0.9167\n",
            "Epoch 30/50\n",
            "5/5 [==============================] - 1s 99ms/step - loss: 0.0758 - accuracy: 0.9800 - val_loss: 0.1313 - val_accuracy: 0.9444\n",
            "Epoch 31/50\n",
            "5/5 [==============================] - 1s 98ms/step - loss: 0.0758 - accuracy: 0.9576 - val_loss: 0.1346 - val_accuracy: 0.9167\n",
            "Epoch 32/50\n",
            "5/5 [==============================] - 1s 103ms/step - loss: 0.0427 - accuracy: 0.9892 - val_loss: 0.1515 - val_accuracy: 0.9444\n",
            "Epoch 33/50\n",
            "5/5 [==============================] - 1s 106ms/step - loss: 0.0826 - accuracy: 0.9845 - val_loss: 0.1218 - val_accuracy: 0.9444\n",
            "Epoch 34/50\n",
            "5/5 [==============================] - 1s 100ms/step - loss: 0.0403 - accuracy: 1.0000 - val_loss: 0.1956 - val_accuracy: 0.8611\n",
            "Epoch 35/50\n",
            "5/5 [==============================] - 1s 106ms/step - loss: 0.0540 - accuracy: 0.9789 - val_loss: 0.1408 - val_accuracy: 0.9167\n",
            "Epoch 36/50\n",
            "5/5 [==============================] - 1s 113ms/step - loss: 0.0853 - accuracy: 0.9460 - val_loss: 0.1613 - val_accuracy: 0.9444\n",
            "Epoch 37/50\n",
            "5/5 [==============================] - 1s 103ms/step - loss: 0.0607 - accuracy: 0.9860 - val_loss: 0.1365 - val_accuracy: 0.9167\n",
            "Epoch 38/50\n",
            "5/5 [==============================] - 1s 116ms/step - loss: 0.0301 - accuracy: 0.9962 - val_loss: 0.1342 - val_accuracy: 0.9167\n",
            "Epoch 39/50\n",
            "5/5 [==============================] - 1s 102ms/step - loss: 0.0821 - accuracy: 0.9641 - val_loss: 0.1585 - val_accuracy: 0.9444\n",
            "Epoch 40/50\n",
            "5/5 [==============================] - 1s 98ms/step - loss: 0.0586 - accuracy: 0.9830 - val_loss: 0.1175 - val_accuracy: 0.9444\n",
            "Epoch 41/50\n",
            "5/5 [==============================] - 1s 101ms/step - loss: 0.0577 - accuracy: 0.9806 - val_loss: 0.1145 - val_accuracy: 0.9444\n",
            "Epoch 42/50\n",
            "5/5 [==============================] - 1s 108ms/step - loss: 0.0361 - accuracy: 0.9941 - val_loss: 0.1282 - val_accuracy: 0.9444\n",
            "Epoch 43/50\n",
            "5/5 [==============================] - 1s 113ms/step - loss: 0.0343 - accuracy: 0.9962 - val_loss: 0.1450 - val_accuracy: 0.9444\n",
            "Epoch 44/50\n",
            "5/5 [==============================] - 1s 113ms/step - loss: 0.0505 - accuracy: 0.9764 - val_loss: 0.1238 - val_accuracy: 0.9167\n",
            "Epoch 45/50\n",
            "5/5 [==============================] - 1s 99ms/step - loss: 0.0712 - accuracy: 0.9766 - val_loss: 0.1298 - val_accuracy: 0.9444\n",
            "Epoch 46/50\n",
            "5/5 [==============================] - 1s 108ms/step - loss: 0.0644 - accuracy: 0.9674 - val_loss: 0.1087 - val_accuracy: 0.9444\n",
            "Epoch 47/50\n",
            "5/5 [==============================] - 1s 102ms/step - loss: 0.0386 - accuracy: 0.9928 - val_loss: 0.1123 - val_accuracy: 0.9167\n",
            "Epoch 48/50\n",
            "5/5 [==============================] - 1s 110ms/step - loss: 0.0313 - accuracy: 0.9918 - val_loss: 0.1224 - val_accuracy: 0.9444\n",
            "Epoch 49/50\n",
            "5/5 [==============================] - 1s 100ms/step - loss: 0.0288 - accuracy: 0.9863 - val_loss: 0.0908 - val_accuracy: 0.9444\n",
            "Epoch 50/50\n",
            "5/5 [==============================] - 1s 95ms/step - loss: 0.0391 - accuracy: 0.9804 - val_loss: 0.1016 - val_accuracy: 0.9444\n"
          ]
        }
      ],
      "source": [
        "history=model.fit(generator.flow(X_train,y_train,batch_size=32),validation_data=(X_test,y_test),epochs=50)"
      ]
    },
    {
      "cell_type": "markdown",
      "id": "dXHXwcTWplxe",
      "metadata": {
        "id": "dXHXwcTWplxe"
      },
      "source": [
        "# Prediction on Test Set"
      ]
    },
    {
      "cell_type": "code",
      "execution_count": 19,
      "id": "QlNXwACKugGT",
      "metadata": {
        "id": "QlNXwACKugGT"
      },
      "outputs": [],
      "source": [
        "y_pred=model.predict(X_test)\n",
        "y_pred=np.argmax(y_pred,axis=1)\n",
        "y_test = np.argmax(y_test,axis=1)"
      ]
    },
    {
      "cell_type": "markdown",
      "id": "1zHfJOA5uYwU",
      "metadata": {
        "id": "1zHfJOA5uYwU"
      },
      "source": [
        "# Confusion Matrix"
      ]
    },
    {
      "cell_type": "code",
      "execution_count": 20,
      "id": "rOmR94w0uFnT",
      "metadata": {
        "colab": {
          "base_uri": "https://localhost:8080/"
        },
        "id": "rOmR94w0uFnT",
        "outputId": "51177de5-5038-46c0-e203-728079f8b789"
      },
      "outputs": [
        {
          "name": "stdout",
          "output_type": "stream",
          "text": [
            "[[10  0  0]\n",
            " [ 0 15  1]\n",
            " [ 0  1  9]]\n"
          ]
        }
      ],
      "source": [
        "from sklearn.metrics import confusion_matrix\n",
        "cm = confusion_matrix(y_test,y_pred)\n",
        "print(cm)"
      ]
    },
    {
      "cell_type": "code",
      "execution_count": 21,
      "id": "CmOBzN5WuFk8",
      "metadata": {
        "colab": {
          "base_uri": "https://localhost:8080/",
          "height": 445
        },
        "id": "CmOBzN5WuFk8",
        "outputId": "f31f4b20-27aa-4334-ce9f-6c9c4d0e50ba"
      },
      "outputs": [
        {
          "data": {
            "text/plain": [
              "<matplotlib.axes._subplots.AxesSubplot at 0x7fa8bb147810>"
            ]
          },
          "execution_count": 21,
          "metadata": {
            "tags": []
          },
          "output_type": "execute_result"
        },
        {
          "data": {
            "image/png": "[encoded data removed]",
            "text/plain": [
              "<Figure size 1080x504 with 2 Axes>"
            ]
          },
          "metadata": {
            "needs_background": "light",
            "tags": []
          },
          "output_type": "display_data"
        }
      ],
      "source": [
        "plt.subplots(figsize=(15,7))\n",
        "sns.heatmap(cm, annot= True, linewidth=1, cmap=\"autumn_r\")"
      ]
    },
    {
      "cell_type": "markdown",
      "id": "h8JjyMNSusTb",
      "metadata": {
        "id": "h8JjyMNSusTb"
      },
      "source": [
        "# Accuracy"
      ]
    },
    {
      "cell_type": "code",
      "execution_count": 22,
      "id": "-VJM3yECuh37",
      "metadata": {
        "colab": {
          "base_uri": "https://localhost:8080/"
        },
        "id": "-VJM3yECuh37",
        "outputId": "54ac51cb-29d5-4448-dd4f-f82c1cda11dd"
      },
      "outputs": [
        {
          "name": "stdout",
          "output_type": "stream",
          "text": [
            "Accuracy :  0.9444444444444444\n"
          ]
        }
      ],
      "source": [
        "print(\"Accuracy : \",accuracy_score(y_test,y_pred))"
      ]
    },
    {
      "cell_type": "markdown",
      "id": "RAkz9kKxuuXb",
      "metadata": {
        "id": "RAkz9kKxuuXb"
      },
      "source": [
        "# Classification Report"
      ]
    },
    {
      "cell_type": "code",
      "execution_count": 23,
      "id": "dVzDFh4TeQWC",
      "metadata": {
        "colab": {
          "base_uri": "https://localhost:8080/"
        },
        "id": "dVzDFh4TeQWC",
        "outputId": "d453960f-f7d8-406a-8844-6ac780ac1b81"
      },
      "outputs": [
        {
          "name": "stdout",
          "output_type": "stream",
          "text": [
            "              precision    recall  f1-score   support\n",
            "\n",
            "           0       1.00      1.00      1.00        10\n",
            "           1       0.94      0.94      0.94        16\n",
            "           2       0.90      0.90      0.90        10\n",
            "\n",
            "    accuracy                           0.94        36\n",
            "   macro avg       0.95      0.95      0.95        36\n",
            "weighted avg       0.94      0.94      0.94        36\n",
            "\n"
          ]
        }
      ],
      "source": [
        "print(classification_report(y_test,y_pred))"
      ]
    },
    {
      "cell_type": "markdown",
      "id": "h7RZoV8Mptzm",
      "metadata": {
        "id": "h7RZoV8Mptzm"
      },
      "source": [
        "# Loss vs Validation Loss Plot\n"
      ]
    },
    {
      "cell_type": "code",
      "execution_count": 24,
      "id": "5qeQ4l4OjfTo",
      "metadata": {
        "colab": {
          "base_uri": "https://localhost:8080/",
          "height": 542
        },
        "id": "5qeQ4l4OjfTo",
        "outputId": "5c5ab747-1512-4584-a018-a32415e47d6e"
      },
      "outputs": [
        {
          "data": {
            "text/html": [
              "<html>\n",
              "<head><meta charset=\"utf-8\" /></head>\n",
              "<body>\n",
              "    <div>\n",
              "            <script src=\"https://cdnjs.cloudflare.com/ajax/libs/mathjax/2.7.5/MathJax.js?config=TeX-AMS-MML_SVG\"></script><script type=\"text/javascript\">if (window.MathJax) {MathJax.Hub.Config({SVG: {font: \"STIX-Web\"}});}</script>\n",
              "                <script type=\"text/javascript\">window.PlotlyConfig = {MathJaxConfig: 'local'};</script>\n",
              "        <script src=\"https://cdn.plot.ly/plotly-latest.min.js\"></script>    \n",
              "            <div id=\"02935455-6661-4c5e-8d10-d3e431f74263\" class=\"plotly-graph-div\" style=\"height:525px; width:100%;\"></div>\n",
              "            <script type=\"text/javascript\">\n",
              "                \n",
              "                    window.PLOTLYENV=window.PLOTLYENV || {};\n",
              "                    \n",
              "                if (document.getElementById(\"02935455-6661-4c5e-8d10-d3e431f74263\")) {\n",
              "                    Plotly.newPlot(\n",
              "                        '02935455-6661-4c5e-8d10-d3e431f74263',\n",
              "                        [{\"line\": {\"color\": \"royalblue\", \"width\": 3}, \"name\": \"Loss\", \"type\": \"scatter\", \"y\": [0.7055037617683411, 0.3718218505382538, 0.3551763892173767, 0.2278614342212677, 0.2058352679014206, 0.1656981110572815, 0.1798688769340515, 0.14178848266601562, 0.12805812060832977, 0.11546247452497482, 0.11356944590806961, 0.13297076523303986, 0.11561690270900726, 0.11793211102485657, 0.10192077606916428, 0.09782619029283524, 0.1057601049542427, 0.1029042899608612, 0.0956445261836052, 0.08873403817415237, 0.06838347017765045, 0.05642201006412506, 0.06794862449169159, 0.04588688910007477, 0.049670714884996414, 0.049846820533275604, 0.06970414519309998, 0.060100357979536057, 0.06827303022146225, 0.0707181766629219, 0.06670268625020981, 0.050198812037706375, 0.0942746251821518, 0.03945063799619675, 0.04921610280871391, 0.0810159295797348, 0.06351488828659058, 0.037021126598119736, 0.06178097426891327, 0.05551769211888313, 0.06012061610817909, 0.03981949761509895, 0.039573606103658676, 0.04286356270313263, 0.060225289314985275, 0.056272611021995544, 0.03782851994037628, 0.04345421865582466, 0.04260273277759552, 0.03277602419257164]}, {\"line\": {\"color\": \"firebrick\", \"width\": 2}, \"name\": \"Validation Loss\", \"type\": \"scatter\", \"y\": [0.5457497835159302, 0.3668903708457947, 0.4243035316467285, 0.31138086318969727, 0.3520938754081726, 0.32194510102272034, 0.26964271068573, 0.2882131338119507, 0.19284702837467194, 0.17570921778678894, 0.18078285455703735, 0.17248126864433289, 0.17961826920509338, 0.20480570197105408, 0.16056369245052338, 0.17637456953525543, 0.18267595767974854, 0.173540860414505, 0.16983447968959808, 0.18359112739562988, 0.21449916064739227, 0.16837377846240997, 0.1426052302122116, 0.1329955756664276, 0.14138497412204742, 0.1488114893436432, 0.14434543251991272, 0.11954773962497711, 0.11687665432691574, 0.1313115954399109, 0.13459759950637817, 0.15152743458747864, 0.12178787589073181, 0.19555838406085968, 0.14084011316299438, 0.16128438711166382, 0.13653190433979034, 0.13420738279819489, 0.15853197872638702, 0.11752793192863464, 0.11446630954742432, 0.1282004714012146, 0.14501601457595825, 0.12379933893680573, 0.12984690070152283, 0.10870209336280823, 0.11231786757707596, 0.12240864336490631, 0.09082693606615067, 0.10159942507743835]}],\n",
              "                        {\"template\": {\"data\": {\"bar\": [{\"error_x\": {\"color\": \"#2a3f5f\"}, \"error_y\": {\"color\": \"#2a3f5f\"}, \"marker\": {\"line\": {\"color\": \"#E5ECF6\", \"width\": 0.5}}, \"type\": \"bar\"}], \"barpolar\": [{\"marker\": {\"line\": {\"color\": \"#E5ECF6\", \"width\": 0.5}}, \"type\": \"barpolar\"}], \"carpet\": [{\"aaxis\": {\"endlinecolor\": \"#2a3f5f\", \"gridcolor\": \"white\", \"linecolor\": \"white\", \"minorgridcolor\": \"white\", \"startlinecolor\": \"#2a3f5f\"}, \"baxis\": {\"endlinecolor\": \"#2a3f5f\", \"gridcolor\": \"white\", \"linecolor\": \"white\", \"minorgridcolor\": \"white\", \"startlinecolor\": \"#2a3f5f\"}, \"type\": \"carpet\"}], \"choropleth\": [{\"colorbar\": {\"outlinewidth\": 0, \"ticks\": \"\"}, \"type\": \"choropleth\"}], \"contour\": [{\"colorbar\": {\"outlinewidth\": 0, \"ticks\": \"\"}, \"colorscale\": [[0.0, \"#0d0887\"], [0.1111111111111111, \"#46039f\"], [0.2222222222222222, \"#7201a8\"], [0.3333333333333333, \"#9c179e\"], [0.4444444444444444, \"#bd3786\"], [0.5555555555555556, \"#d8576b\"], [0.6666666666666666, \"#ed7953\"], [0.7777777777777778, \"#fb9f3a\"], [0.8888888888888888, \"#fdca26\"], [1.0, \"#f0f921\"]], \"type\": \"contour\"}], \"contourcarpet\": [{\"colorbar\": {\"outlinewidth\": 0, \"ticks\": \"\"}, \"type\": \"contourcarpet\"}], \"heatmap\": [{\"colorbar\": {\"outlinewidth\": 0, \"ticks\": \"\"}, \"colorscale\": [[0.0, \"#0d0887\"], [0.1111111111111111, \"#46039f\"], [0.2222222222222222, \"#7201a8\"], [0.3333333333333333, \"#9c179e\"], [0.4444444444444444, \"#bd3786\"], [0.5555555555555556, \"#d8576b\"], [0.6666666666666666, \"#ed7953\"], [0.7777777777777778, \"#fb9f3a\"], [0.8888888888888888, \"#fdca26\"], [1.0, \"#f0f921\"]], \"type\": \"heatmap\"}], \"heatmapgl\": [{\"colorbar\": {\"outlinewidth\": 0, \"ticks\": \"\"}, \"colorscale\": [[0.0, \"#0d0887\"], [0.1111111111111111, \"#46039f\"], [0.2222222222222222, \"#7201a8\"], [0.3333333333333333, \"#9c179e\"], [0.4444444444444444, \"#bd3786\"], [0.5555555555555556, \"#d8576b\"], [0.6666666666666666, \"#ed7953\"], [0.7777777777777778, \"#fb9f3a\"], [0.8888888888888888, \"#fdca26\"], [1.0, \"#f0f921\"]], \"type\": \"heatmapgl\"}], \"histogram\": [{\"marker\": {\"colorbar\": {\"outlinewidth\": 0, \"ticks\": \"\"}}, \"type\": \"histogram\"}], \"histogram2d\": [{\"colorbar\": {\"outlinewidth\": 0, \"ticks\": \"\"}, \"colorscale\": [[0.0, \"#0d0887\"], [0.1111111111111111, \"#46039f\"], [0.2222222222222222, \"#7201a8\"], [0.3333333333333333, \"#9c179e\"], [0.4444444444444444, \"#bd3786\"], [0.5555555555555556, \"#d8576b\"], [0.6666666666666666, \"#ed7953\"], [0.7777777777777778, \"#fb9f3a\"], [0.8888888888888888, \"#fdca26\"], [1.0, \"#f0f921\"]], \"type\": \"histogram2d\"}], \"histogram2dcontour\": [{\"colorbar\": {\"outlinewidth\": 0, \"ticks\": \"\"}, \"colorscale\": [[0.0, \"#0d0887\"], [0.1111111111111111, \"#46039f\"], [0.2222222222222222, \"#7201a8\"], [0.3333333333333333, \"#9c179e\"], [0.4444444444444444, \"#bd3786\"], [0.5555555555555556, \"#d8576b\"], [0.6666666666666666, \"#ed7953\"], [0.7777777777777778, \"#fb9f3a\"], [0.8888888888888888, \"#fdca26\"], [1.0, \"#f0f921\"]], \"type\": \"histogram2dcontour\"}], \"mesh3d\": [{\"colorbar\": {\"outlinewidth\": 0, \"ticks\": \"\"}, \"type\": \"mesh3d\"}], \"parcoords\": [{\"line\": {\"colorbar\": {\"outlinewidth\": 0, \"ticks\": \"\"}}, \"type\": \"parcoords\"}], \"pie\": [{\"automargin\": true, \"type\": \"pie\"}], \"scatter\": [{\"marker\": {\"colorbar\": {\"outlinewidth\": 0, \"ticks\": \"\"}}, \"type\": \"scatter\"}], \"scatter3d\": [{\"line\": {\"colorbar\": {\"outlinewidth\": 0, \"ticks\": \"\"}}, \"marker\": {\"colorbar\": {\"outlinewidth\": 0, \"ticks\": \"\"}}, \"type\": \"scatter3d\"}], \"scattercarpet\": [{\"marker\": {\"colorbar\": {\"outlinewidth\": 0, \"ticks\": \"\"}}, \"type\": \"scattercarpet\"}], \"scattergeo\": [{\"marker\": {\"colorbar\": {\"outlinewidth\": 0, \"ticks\": \"\"}}, \"type\": \"scattergeo\"}], \"scattergl\": [{\"marker\": {\"colorbar\": {\"outlinewidth\": 0, \"ticks\": \"\"}}, \"type\": \"scattergl\"}], \"scattermapbox\": [{\"marker\": {\"colorbar\": {\"outlinewidth\": 0, \"ticks\": \"\"}}, \"type\": \"scattermapbox\"}], \"scatterpolar\": [{\"marker\": {\"colorbar\": {\"outlinewidth\": 0, \"ticks\": \"\"}}, \"type\": \"scatterpolar\"}], \"scatterpolargl\": [{\"marker\": {\"colorbar\": {\"outlinewidth\": 0, \"ticks\": \"\"}}, \"type\": \"scatterpolargl\"}], \"scatterternary\": [{\"marker\": {\"colorbar\": {\"outlinewidth\": 0, \"ticks\": \"\"}}, \"type\": \"scatterternary\"}], \"surface\": [{\"colorbar\": {\"outlinewidth\": 0, \"ticks\": \"\"}, \"colorscale\": [[0.0, \"#0d0887\"], [0.1111111111111111, \"#46039f\"], [0.2222222222222222, \"#7201a8\"], [0.3333333333333333, \"#9c179e\"], [0.4444444444444444, \"#bd3786\"], [0.5555555555555556, \"#d8576b\"], [0.6666666666666666, \"#ed7953\"], [0.7777777777777778, \"#fb9f3a\"], [0.8888888888888888, \"#fdca26\"], [1.0, \"#f0f921\"]], \"type\": \"surface\"}], \"table\": [{\"cells\": {\"fill\": {\"color\": \"#EBF0F8\"}, \"line\": {\"color\": \"white\"}}, \"header\": {\"fill\": {\"color\": \"#C8D4E3\"}, \"line\": {\"color\": \"white\"}}, \"type\": \"table\"}]}, \"layout\": {\"annotationdefaults\": {\"arrowcolor\": \"#2a3f5f\", \"arrowhead\": 0, \"arrowwidth\": 1}, \"coloraxis\": {\"colorbar\": {\"outlinewidth\": 0, \"ticks\": \"\"}}, \"colorscale\": {\"diverging\": [[0, \"#8e0152\"], [0.1, \"#c51b7d\"], [0.2, \"#de77ae\"], [0.3, \"#f1b6da\"], [0.4, \"#fde0ef\"], [0.5, \"#f7f7f7\"], [0.6, \"#e6f5d0\"], [0.7, \"#b8e186\"], [0.8, \"#7fbc41\"], [0.9, \"#4d9221\"], [1, \"#276419\"]], \"sequential\": [[0.0, \"#0d0887\"], [0.1111111111111111, \"#46039f\"], [0.2222222222222222, \"#7201a8\"], [0.3333333333333333, \"#9c179e\"], [0.4444444444444444, \"#bd3786\"], [0.5555555555555556, \"#d8576b\"], [0.6666666666666666, \"#ed7953\"], [0.7777777777777778, \"#fb9f3a\"], [0.8888888888888888, \"#fdca26\"], [1.0, \"#f0f921\"]], \"sequentialminus\": [[0.0, \"#0d0887\"], [0.1111111111111111, \"#46039f\"], [0.2222222222222222, \"#7201a8\"], [0.3333333333333333, \"#9c179e\"], [0.4444444444444444, \"#bd3786\"], [0.5555555555555556, \"#d8576b\"], [0.6666666666666666, \"#ed7953\"], [0.7777777777777778, \"#fb9f3a\"], [0.8888888888888888, \"#fdca26\"], [1.0, \"#f0f921\"]]}, \"colorway\": [\"#636efa\", \"#EF553B\", \"#00cc96\", \"#ab63fa\", \"#FFA15A\", \"#19d3f3\", \"#FF6692\", \"#B6E880\", \"#FF97FF\", \"#FECB52\"], \"font\": {\"color\": \"#2a3f5f\"}, \"geo\": {\"bgcolor\": \"white\", \"lakecolor\": \"white\", \"landcolor\": \"#E5ECF6\", \"showlakes\": true, \"showland\": true, \"subunitcolor\": \"white\"}, \"hoverlabel\": {\"align\": \"left\"}, \"hovermode\": \"closest\", \"mapbox\": {\"style\": \"light\"}, \"paper_bgcolor\": \"white\", \"plot_bgcolor\": \"#E5ECF6\", \"polar\": {\"angularaxis\": {\"gridcolor\": \"white\", \"linecolor\": \"white\", \"ticks\": \"\"}, \"bgcolor\": \"#E5ECF6\", \"radialaxis\": {\"gridcolor\": \"white\", \"linecolor\": \"white\", \"ticks\": \"\"}}, \"scene\": {\"xaxis\": {\"backgroundcolor\": \"#E5ECF6\", \"gridcolor\": \"white\", \"gridwidth\": 2, \"linecolor\": \"white\", \"showbackground\": true, \"ticks\": \"\", \"zerolinecolor\": \"white\"}, \"yaxis\": {\"backgroundcolor\": \"#E5ECF6\", \"gridcolor\": \"white\", \"gridwidth\": 2, \"linecolor\": \"white\", \"showbackground\": true, \"ticks\": \"\", \"zerolinecolor\": \"white\"}, \"zaxis\": {\"backgroundcolor\": \"#E5ECF6\", \"gridcolor\": \"white\", \"gridwidth\": 2, \"linecolor\": \"white\", \"showbackground\": true, \"ticks\": \"\", \"zerolinecolor\": \"white\"}}, \"shapedefaults\": {\"line\": {\"color\": \"#2a3f5f\"}}, \"ternary\": {\"aaxis\": {\"gridcolor\": \"white\", \"linecolor\": \"white\", \"ticks\": \"\"}, \"baxis\": {\"gridcolor\": \"white\", \"linecolor\": \"white\", \"ticks\": \"\"}, \"bgcolor\": \"#E5ECF6\", \"caxis\": {\"gridcolor\": \"white\", \"linecolor\": \"white\", \"ticks\": \"\"}}, \"title\": {\"x\": 0.05}, \"xaxis\": {\"automargin\": true, \"gridcolor\": \"white\", \"linecolor\": \"white\", \"ticks\": \"\", \"title\": {\"standoff\": 15}, \"zerolinecolor\": \"white\", \"zerolinewidth\": 2}, \"yaxis\": {\"automargin\": true, \"gridcolor\": \"white\", \"linecolor\": \"white\", \"ticks\": \"\", \"title\": {\"standoff\": 15}, \"zerolinecolor\": \"white\", \"zerolinewidth\": 2}}}},\n",
              "                        {\"responsive\": true}\n",
              "                    ).then(function(){\n",
              "                            \n",
              "var gd = document.getElementById('02935455-6661-4c5e-8d10-d3e431f74263');\n",
              "var x = new MutationObserver(function (mutations, observer) {{\n",
              "        var display = window.getComputedStyle(gd).display;\n",
              "        if (!display || display === 'none') {{\n",
              "            console.log([gd, 'removed!']);\n",
              "            Plotly.purge(gd);\n",
              "            observer.disconnect();\n",
              "        }}\n",
              "}});\n",
              "\n",
              "// Listen for the removal of the full notebook cells\n",
              "var notebookContainer = gd.closest('#notebook-container');\n",
              "if (notebookContainer) {{\n",
              "    x.observe(notebookContainer, {childList: true});\n",
              "}}\n",
              "\n",
              "// Listen for the clearing of the current output cell\n",
              "var outputEl = gd.closest('.output');\n",
              "if (outputEl) {{\n",
              "    x.observe(outputEl, {childList: true});\n",
              "}}\n",
              "\n",
              "                        })\n",
              "                };\n",
              "                \n",
              "            </script>\n",
              "        </div>\n",
              "</body>\n",
              "</html>"
            ]
          },
          "metadata": {
            "tags": []
          },
          "output_type": "display_data"
        }
      ],
      "source": [
        "import plotly.graph_objects as go\n",
        "fig = go.Figure()\n",
        "\n",
        "fig.add_trace(go.Scatter(y=history.history['loss'], name='Loss',\n",
        "                         line=dict(color='royalblue', width=3)))\n",
        "fig.add_trace(go.Scatter(y=history.history['val_loss'], name='Validation Loss',\n",
        "                         line=dict(color='firebrick', width=2)))"
      ]
    },
    {
      "cell_type": "markdown",
      "id": "L-amKMJXpxLU",
      "metadata": {
        "id": "L-amKMJXpxLU"
      },
      "source": [
        "# Accuracy vs Validation Accuracy Plot"
      ]
    },
    {
      "cell_type": "code",
      "execution_count": 25,
      "id": "cFI-OnBsjnC4",
      "metadata": {
        "colab": {
          "base_uri": "https://localhost:8080/",
          "height": 542
        },
        "id": "cFI-OnBsjnC4",
        "outputId": "d9f65425-4c23-4fae-93a1-1781858d9c63"
      },
      "outputs": [
        {
          "data": {
            "text/html": [
              "<html>\n",
              "<head><meta charset=\"utf-8\" /></head>\n",
              "<body>\n",
              "    <div>\n",
              "            <script src=\"https://cdnjs.cloudflare.com/ajax/libs/mathjax/2.7.5/MathJax.js?config=TeX-AMS-MML_SVG\"></script><script type=\"text/javascript\">if (window.MathJax) {MathJax.Hub.Config({SVG: {font: \"STIX-Web\"}});}</script>\n",
              "                <script type=\"text/javascript\">window.PlotlyConfig = {MathJaxConfig: 'local'};</script>\n",
              "        <script src=\"https://cdn.plot.ly/plotly-latest.min.js\"></script>    \n",
              "            <div id=\"a6684c35-33d4-49ad-9cb8-8a224d57d00d\" class=\"plotly-graph-div\" style=\"height:525px; width:100%;\"></div>\n",
              "            <script type=\"text/javascript\">\n",
              "                \n",
              "                    window.PLOTLYENV=window.PLOTLYENV || {};\n",
              "                    \n",
              "                if (document.getElementById(\"a6684c35-33d4-49ad-9cb8-8a224d57d00d\")) {\n",
              "                    Plotly.newPlot(\n",
              "                        'a6684c35-33d4-49ad-9cb8-8a224d57d00d',\n",
              "                        [{\"line\": {\"color\": \"royalblue\", \"width\": 3}, \"name\": \"Accuracy\", \"type\": \"scatter\", \"y\": [0.5625, 0.8263888955116272, 0.7986111044883728, 0.9027777910232544, 0.8680555820465088, 0.9305555820465088, 0.9027777910232544, 0.9513888955116272, 0.9236111044883728, 0.9375, 0.9583333134651184, 0.9444444179534912, 0.9375, 0.9444444179534912, 0.9513888955116272, 0.9722222089767456, 0.9513888955116272, 0.9652777910232544, 0.9722222089767456, 0.9861111044883728, 0.9722222089767456, 0.9930555820465088, 0.9722222089767456, 0.9861111044883728, 0.9791666865348816, 0.9861111044883728, 0.9583333134651184, 0.9861111044883728, 0.9930555820465088, 0.9722222089767456, 0.9652777910232544, 0.9861111044883728, 0.9791666865348816, 1.0, 0.9861111044883728, 0.9583333134651184, 0.9722222089767456, 0.9930555820465088, 0.9791666865348816, 0.9861111044883728, 0.9722222089767456, 0.9930555820465088, 0.9930555820465088, 0.9861111044883728, 0.9791666865348816, 0.9722222089767456, 0.9861111044883728, 0.9861111044883728, 0.9722222089767456, 0.9861111044883728]}, {\"line\": {\"color\": \"firebrick\", \"width\": 3}, \"name\": \"Validation Accuracy\", \"type\": \"scatter\", \"y\": [0.5555555820465088, 0.6666666865348816, 0.75, 0.75, 0.8333333134651184, 0.7777777910232544, 0.8611111044883728, 0.8611111044883728, 0.8888888955116272, 0.8888888955116272, 0.9166666865348816, 0.8888888955116272, 0.9166666865348816, 0.8888888955116272, 0.9166666865348816, 0.9444444179534912, 0.8888888955116272, 0.9444444179534912, 0.9166666865348816, 0.8888888955116272, 0.8888888955116272, 0.8888888955116272, 0.9166666865348816, 0.9166666865348816, 0.9166666865348816, 0.9166666865348816, 0.9166666865348816, 0.9166666865348816, 0.9166666865348816, 0.9444444179534912, 0.9166666865348816, 0.9444444179534912, 0.9444444179534912, 0.8611111044883728, 0.9166666865348816, 0.9444444179534912, 0.9166666865348816, 0.9166666865348816, 0.9444444179534912, 0.9444444179534912, 0.9444444179534912, 0.9444444179534912, 0.9444444179534912, 0.9166666865348816, 0.9444444179534912, 0.9444444179534912, 0.9166666865348816, 0.9444444179534912, 0.9444444179534912, 0.9444444179534912]}],\n",
              "                        {\"template\": {\"data\": {\"bar\": [{\"error_x\": {\"color\": \"#2a3f5f\"}, \"error_y\": {\"color\": \"#2a3f5f\"}, \"marker\": {\"line\": {\"color\": \"#E5ECF6\", \"width\": 0.5}}, \"type\": \"bar\"}], \"barpolar\": [{\"marker\": {\"line\": {\"color\": \"#E5ECF6\", \"width\": 0.5}}, \"type\": \"barpolar\"}], \"carpet\": [{\"aaxis\": {\"endlinecolor\": \"#2a3f5f\", \"gridcolor\": \"white\", \"linecolor\": \"white\", \"minorgridcolor\": \"white\", \"startlinecolor\": \"#2a3f5f\"}, \"baxis\": {\"endlinecolor\": \"#2a3f5f\", \"gridcolor\": \"white\", \"linecolor\": \"white\", \"minorgridcolor\": \"white\", \"startlinecolor\": \"#2a3f5f\"}, \"type\": \"carpet\"}], \"choropleth\": [{\"colorbar\": {\"outlinewidth\": 0, \"ticks\": \"\"}, \"type\": \"choropleth\"}], \"contour\": [{\"colorbar\": {\"outlinewidth\": 0, \"ticks\": \"\"}, \"colorscale\": [[0.0, \"#0d0887\"], [0.1111111111111111, \"#46039f\"], [0.2222222222222222, \"#7201a8\"], [0.3333333333333333, \"#9c179e\"], [0.4444444444444444, \"#bd3786\"], [0.5555555555555556, \"#d8576b\"], [0.6666666666666666, \"#ed7953\"], [0.7777777777777778, \"#fb9f3a\"], [0.8888888888888888, \"#fdca26\"], [1.0, \"#f0f921\"]], \"type\": \"contour\"}], \"contourcarpet\": [{\"colorbar\": {\"outlinewidth\": 0, \"ticks\": \"\"}, \"type\": \"contourcarpet\"}], \"heatmap\": [{\"colorbar\": {\"outlinewidth\": 0, \"ticks\": \"\"}, \"colorscale\": [[0.0, \"#0d0887\"], [0.1111111111111111, \"#46039f\"], [0.2222222222222222, \"#7201a8\"], [0.3333333333333333, \"#9c179e\"], [0.4444444444444444, \"#bd3786\"], [0.5555555555555556, \"#d8576b\"], [0.6666666666666666, \"#ed7953\"], [0.7777777777777778, \"#fb9f3a\"], [0.8888888888888888, \"#fdca26\"], [1.0, \"#f0f921\"]], \"type\": \"heatmap\"}], \"heatmapgl\": [{\"colorbar\": {\"outlinewidth\": 0, \"ticks\": \"\"}, \"colorscale\": [[0.0, \"#0d0887\"], [0.1111111111111111, \"#46039f\"], [0.2222222222222222, \"#7201a8\"], [0.3333333333333333, \"#9c179e\"], [0.4444444444444444, \"#bd3786\"], [0.5555555555555556, \"#d8576b\"], [0.6666666666666666, \"#ed7953\"], [0.7777777777777778, \"#fb9f3a\"], [0.8888888888888888, \"#fdca26\"], [1.0, \"#f0f921\"]], \"type\": \"heatmapgl\"}], \"histogram\": [{\"marker\": {\"colorbar\": {\"outlinewidth\": 0, \"ticks\": \"\"}}, \"type\": \"histogram\"}], \"histogram2d\": [{\"colorbar\": {\"outlinewidth\": 0, \"ticks\": \"\"}, \"colorscale\": [[0.0, \"#0d0887\"], [0.1111111111111111, \"#46039f\"], [0.2222222222222222, \"#7201a8\"], [0.3333333333333333, \"#9c179e\"], [0.4444444444444444, \"#bd3786\"], [0.5555555555555556, \"#d8576b\"], [0.6666666666666666, \"#ed7953\"], [0.7777777777777778, \"#fb9f3a\"], [0.8888888888888888, \"#fdca26\"], [1.0, \"#f0f921\"]], \"type\": \"histogram2d\"}], \"histogram2dcontour\": [{\"colorbar\": {\"outlinewidth\": 0, \"ticks\": \"\"}, \"colorscale\": [[0.0, \"#0d0887\"], [0.1111111111111111, \"#46039f\"], [0.2222222222222222, \"#7201a8\"], [0.3333333333333333, \"#9c179e\"], [0.4444444444444444, \"#bd3786\"], [0.5555555555555556, \"#d8576b\"], [0.6666666666666666, \"#ed7953\"], [0.7777777777777778, \"#fb9f3a\"], [0.8888888888888888, \"#fdca26\"], [1.0, \"#f0f921\"]], \"type\": \"histogram2dcontour\"}], \"mesh3d\": [{\"colorbar\": {\"outlinewidth\": 0, \"ticks\": \"\"}, \"type\": \"mesh3d\"}], \"parcoords\": [{\"line\": {\"colorbar\": {\"outlinewidth\": 0, \"ticks\": \"\"}}, \"type\": \"parcoords\"}], \"pie\": [{\"automargin\": true, \"type\": \"pie\"}], \"scatter\": [{\"marker\": {\"colorbar\": {\"outlinewidth\": 0, \"ticks\": \"\"}}, \"type\": \"scatter\"}], \"scatter3d\": [{\"line\": {\"colorbar\": {\"outlinewidth\": 0, \"ticks\": \"\"}}, \"marker\": {\"colorbar\": {\"outlinewidth\": 0, \"ticks\": \"\"}}, \"type\": \"scatter3d\"}], \"scattercarpet\": [{\"marker\": {\"colorbar\": {\"outlinewidth\": 0, \"ticks\": \"\"}}, \"type\": \"scattercarpet\"}], \"scattergeo\": [{\"marker\": {\"colorbar\": {\"outlinewidth\": 0, \"ticks\": \"\"}}, \"type\": \"scattergeo\"}], \"scattergl\": [{\"marker\": {\"colorbar\": {\"outlinewidth\": 0, \"ticks\": \"\"}}, \"type\": \"scattergl\"}], \"scattermapbox\": [{\"marker\": {\"colorbar\": {\"outlinewidth\": 0, \"ticks\": \"\"}}, \"type\": \"scattermapbox\"}], \"scatterpolar\": [{\"marker\": {\"colorbar\": {\"outlinewidth\": 0, \"ticks\": \"\"}}, \"type\": \"scatterpolar\"}], \"scatterpolargl\": [{\"marker\": {\"colorbar\": {\"outlinewidth\": 0, \"ticks\": \"\"}}, \"type\": \"scatterpolargl\"}], \"scatterternary\": [{\"marker\": {\"colorbar\": {\"outlinewidth\": 0, \"ticks\": \"\"}}, \"type\": \"scatterternary\"}], \"surface\": [{\"colorbar\": {\"outlinewidth\": 0, \"ticks\": \"\"}, \"colorscale\": [[0.0, \"#0d0887\"], [0.1111111111111111, \"#46039f\"], [0.2222222222222222, \"#7201a8\"], [0.3333333333333333, \"#9c179e\"], [0.4444444444444444, \"#bd3786\"], [0.5555555555555556, \"#d8576b\"], [0.6666666666666666, \"#ed7953\"], [0.7777777777777778, \"#fb9f3a\"], [0.8888888888888888, \"#fdca26\"], [1.0, \"#f0f921\"]], \"type\": \"surface\"}], \"table\": [{\"cells\": {\"fill\": {\"color\": \"#EBF0F8\"}, \"line\": {\"color\": \"white\"}}, \"header\": {\"fill\": {\"color\": \"#C8D4E3\"}, \"line\": {\"color\": \"white\"}}, \"type\": \"table\"}]}, \"layout\": {\"annotationdefaults\": {\"arrowcolor\": \"#2a3f5f\", \"arrowhead\": 0, \"arrowwidth\": 1}, \"coloraxis\": {\"colorbar\": {\"outlinewidth\": 0, \"ticks\": \"\"}}, \"colorscale\": {\"diverging\": [[0, \"#8e0152\"], [0.1, \"#c51b7d\"], [0.2, \"#de77ae\"], [0.3, \"#f1b6da\"], [0.4, \"#fde0ef\"], [0.5, \"#f7f7f7\"], [0.6, \"#e6f5d0\"], [0.7, \"#b8e186\"], [0.8, \"#7fbc41\"], [0.9, \"#4d9221\"], [1, \"#276419\"]], \"sequential\": [[0.0, \"#0d0887\"], [0.1111111111111111, \"#46039f\"], [0.2222222222222222, \"#7201a8\"], [0.3333333333333333, \"#9c179e\"], [0.4444444444444444, \"#bd3786\"], [0.5555555555555556, \"#d8576b\"], [0.6666666666666666, \"#ed7953\"], [0.7777777777777778, \"#fb9f3a\"], [0.8888888888888888, \"#fdca26\"], [1.0, \"#f0f921\"]], \"sequentialminus\": [[0.0, \"#0d0887\"], [0.1111111111111111, \"#46039f\"], [0.2222222222222222, \"#7201a8\"], [0.3333333333333333, \"#9c179e\"], [0.4444444444444444, \"#bd3786\"], [0.5555555555555556, \"#d8576b\"], [0.6666666666666666, \"#ed7953\"], [0.7777777777777778, \"#fb9f3a\"], [0.8888888888888888, \"#fdca26\"], [1.0, \"#f0f921\"]]}, \"colorway\": [\"#636efa\", \"#EF553B\", \"#00cc96\", \"#ab63fa\", \"#FFA15A\", \"#19d3f3\", \"#FF6692\", \"#B6E880\", \"#FF97FF\", \"#FECB52\"], \"font\": {\"color\": \"#2a3f5f\"}, \"geo\": {\"bgcolor\": \"white\", \"lakecolor\": \"white\", \"landcolor\": \"#E5ECF6\", \"showlakes\": true, \"showland\": true, \"subunitcolor\": \"white\"}, \"hoverlabel\": {\"align\": \"left\"}, \"hovermode\": \"closest\", \"mapbox\": {\"style\": \"light\"}, \"paper_bgcolor\": \"white\", \"plot_bgcolor\": \"#E5ECF6\", \"polar\": {\"angularaxis\": {\"gridcolor\": \"white\", \"linecolor\": \"white\", \"ticks\": \"\"}, \"bgcolor\": \"#E5ECF6\", \"radialaxis\": {\"gridcolor\": \"white\", \"linecolor\": \"white\", \"ticks\": \"\"}}, \"scene\": {\"xaxis\": {\"backgroundcolor\": \"#E5ECF6\", \"gridcolor\": \"white\", \"gridwidth\": 2, \"linecolor\": \"white\", \"showbackground\": true, \"ticks\": \"\", \"zerolinecolor\": \"white\"}, \"yaxis\": {\"backgroundcolor\": \"#E5ECF6\", \"gridcolor\": \"white\", \"gridwidth\": 2, \"linecolor\": \"white\", \"showbackground\": true, \"ticks\": \"\", \"zerolinecolor\": \"white\"}, \"zaxis\": {\"backgroundcolor\": \"#E5ECF6\", \"gridcolor\": \"white\", \"gridwidth\": 2, \"linecolor\": \"white\", \"showbackground\": true, \"ticks\": \"\", \"zerolinecolor\": \"white\"}}, \"shapedefaults\": {\"line\": {\"color\": \"#2a3f5f\"}}, \"ternary\": {\"aaxis\": {\"gridcolor\": \"white\", \"linecolor\": \"white\", \"ticks\": \"\"}, \"baxis\": {\"gridcolor\": \"white\", \"linecolor\": \"white\", \"ticks\": \"\"}, \"bgcolor\": \"#E5ECF6\", \"caxis\": {\"gridcolor\": \"white\", \"linecolor\": \"white\", \"ticks\": \"\"}}, \"title\": {\"x\": 0.05}, \"xaxis\": {\"automargin\": true, \"gridcolor\": \"white\", \"linecolor\": \"white\", \"ticks\": \"\", \"title\": {\"standoff\": 15}, \"zerolinecolor\": \"white\", \"zerolinewidth\": 2}, \"yaxis\": {\"automargin\": true, \"gridcolor\": \"white\", \"linecolor\": \"white\", \"ticks\": \"\", \"title\": {\"standoff\": 15}, \"zerolinecolor\": \"white\", \"zerolinewidth\": 2}}}},\n",
              "                        {\"responsive\": true}\n",
              "                    ).then(function(){\n",
              "                            \n",
              "var gd = document.getElementById('a6684c35-33d4-49ad-9cb8-8a224d57d00d');\n",
              "var x = new MutationObserver(function (mutations, observer) {{\n",
              "        var display = window.getComputedStyle(gd).display;\n",
              "        if (!display || display === 'none') {{\n",
              "            console.log([gd, 'removed!']);\n",
              "            Plotly.purge(gd);\n",
              "            observer.disconnect();\n",
              "        }}\n",
              "}});\n",
              "\n",
              "// Listen for the removal of the full notebook cells\n",
              "var notebookContainer = gd.closest('#notebook-container');\n",
              "if (notebookContainer) {{\n",
              "    x.observe(notebookContainer, {childList: true});\n",
              "}}\n",
              "\n",
              "// Listen for the clearing of the current output cell\n",
              "var outputEl = gd.closest('.output');\n",
              "if (outputEl) {{\n",
              "    x.observe(outputEl, {childList: true});\n",
              "}}\n",
              "\n",
              "                        })\n",
              "                };\n",
              "                \n",
              "            </script>\n",
              "        </div>\n",
              "</body>\n",
              "</html>"
            ]
          },
          "metadata": {
            "tags": []
          },
          "output_type": "display_data"
        }
      ],
      "source": [
        "fig = go.Figure()\n",
        "fig.add_trace(go.Scatter(y=history.history['accuracy'], name='Accuracy',\n",
        "                         line=dict(color='royalblue', width=3)))\n",
        "fig.add_trace(go.Scatter(y=history.history['val_accuracy'], name='Validation Accuracy',\n",
        "                         line=dict(color='firebrick', width=3)))"
      ]
    },
    {
      "cell_type": "markdown",
      "id": "0wkjtodkp2RW",
      "metadata": {
        "id": "0wkjtodkp2RW"
      },
      "source": [
        "# Testing on some Random Images"
      ]
    },
    {
      "cell_type": "code",
      "execution_count": 26,
      "id": "valued-liberty",
      "metadata": {
        "colab": {
          "base_uri": "https://localhost:8080/"
        },
        "execution": {
          "iopub.execute_input": "2021-05-04T10:26:31.261710Z",
          "iopub.status.busy": "2021-05-04T10:26:31.261034Z",
          "iopub.status.idle": "2021-05-04T10:26:31.305513Z",
          "shell.execute_reply": "2021-05-04T10:26:31.304570Z"
        },
        "id": "valued-liberty",
        "outputId": "32ae1c21-3933-44b5-d008-da4c03f91c25",
        "papermill": {
          "duration": 0.119477,
          "end_time": "2021-05-04T10:26:31.305662",
          "exception": false,
          "start_time": "2021-05-04T10:26:31.186185",
          "status": "completed"
        },
        "tags": []
      },
      "outputs": [
        {
          "name": "stdout",
          "output_type": "stream",
          "text": [
            "This Rice Belongs to tungro class\n",
            "This Rice Belongs to blight class\n",
            "This Rice Belongs to blast class\n",
            "This Rice Belongs to blight class\n",
            "This Rice Belongs to tungro class\n"
          ]
        }
      ],
      "source": [
        "image=load_img(\"/content/drive/MyDrive/rice/tungro/IMG_0852.jpg\",target_size=(100,100))\n",
        "imagee=load_img(\"/content/drive/MyDrive/rice/blight/IMG_0936.jpg\",target_size=(100,100))\n",
        "imageee=load_img(\"/content/drive/MyDrive/rice/blast/IMG_0560.jpg\",target_size=(100,100))\n",
        "imageeee=load_img(\"/content/drive/MyDrive/rice/blight/IMG_1063.jpg\",target_size=(100,100))\n",
        "imageeeee=load_img(\"/content/drive/MyDrive/rice/tungro/IMG_0898.jpg\",target_size=(100,100))\n",
        "\n",
        "image=img_to_array(image) \n",
        "image=image/255.0\n",
        "prediction_image=np.array(image)\n",
        "prediction_image= np.expand_dims(image, axis=0)\n",
        "imagee=img_to_array(imagee) \n",
        "imagee=imagee/255.0\n",
        "prediction_imagee=np.array(imagee)\n",
        "prediction_imagee= np.expand_dims(imagee, axis=0)\n",
        "imageee=img_to_array(imageee) \n",
        "imageee=imageee/255.0\n",
        "prediction_imageee=np.array(imageee)\n",
        "prediction_imageee= np.expand_dims(imageee, axis=0)\n",
        "imageeee=img_to_array(imageeee) \n",
        "imageeee=imageeee/255.0\n",
        "prediction_imageeee=np.array(imageeee)\n",
        "prediction_imageeee= np.expand_dims(imageeee, axis=0)\n",
        "imageeeee=img_to_array(imageeeee) \n",
        "imageeeee=image/255.0\n",
        "prediction_imageeeee=np.array(imageeeee)\n",
        "prediction_imageeeee= np.expand_dims(imageeeee, axis=0)\n",
        "\n",
        "prediction=model.predict(prediction_image)\n",
        "value=np.argmax(prediction)\n",
        "move_name=mapper(value)\n",
        "print(\"This Rice Belongs to\", move_name + \" class\")\n",
        "prediction=model.predict(prediction_imagee)\n",
        "value=np.argmax(prediction)\n",
        "move_name=mapper(value)\n",
        "print(\"This Rice Belongs to\", move_name + \" class\")\n",
        "prediction=model.predict(prediction_imageee)\n",
        "value=np.argmax(prediction)\n",
        "move_name=mapper(value)\n",
        "print(\"This Rice Belongs to\", move_name + \" class\")\n",
        "prediction=model.predict(prediction_imageeee)\n",
        "value=np.argmax(prediction)\n",
        "move_name=mapper(value)\n",
        "print(\"This Rice Belongs to\", move_name + \" class\")\n",
        "prediction=model.predict(prediction_imageeeee)\n",
        "value=np.argmax(prediction)\n",
        "move_name=mapper(value)\n",
        "print(\"This Rice Belongs to\", move_name + \" class\")"
      ]
    },
    {
      "cell_type": "markdown",
      "id": "b47Hos6DrBgU",
      "metadata": {
        "id": "b47Hos6DrBgU"
      },
      "source": [
        "# Prediction on Different Test Set"
      ]
    },
    {
      "cell_type": "code",
      "execution_count": 27,
      "id": "dIo83SuqoKmQ",
      "metadata": {
        "colab": {
          "base_uri": "https://localhost:8080/"
        },
        "id": "dIo83SuqoKmQ",
        "outputId": "772c51bf-cab9-4c58-bd4a-635993592ffb"
      },
      "outputs": [
        {
          "name": "stdout",
          "output_type": "stream",
          "text": [
            "(60, 100, 100, 3)\n",
            "(60, 3)\n"
          ]
        }
      ],
      "source": [
        "print(test.shape)\n",
        "predictionn=model.predict(test)\n",
        "print(predictionn.shape)"
      ]
    },
    {
      "cell_type": "code",
      "execution_count": 28,
      "id": "recent-monroe",
      "metadata": {
        "execution": {
          "iopub.execute_input": "2021-05-04T10:26:31.706155Z",
          "iopub.status.busy": "2021-05-04T10:26:31.705175Z",
          "iopub.status.idle": "2021-05-04T10:26:33.061537Z",
          "shell.execute_reply": "2021-05-04T10:26:33.060508Z"
        },
        "id": "recent-monroe",
        "papermill": {
          "duration": 1.436766,
          "end_time": "2021-05-04T10:26:33.061768",
          "exception": false,
          "start_time": "2021-05-04T10:26:31.625002",
          "status": "completed"
        },
        "tags": []
      },
      "outputs": [],
      "source": [
        "test_pred=[]\n",
        "for item in predictionn:\n",
        "    value=np.argmax(item)      \n",
        "    test_pred = test_pred + [value]"
      ]
    },
    {
      "cell_type": "markdown",
      "id": "GSc8lLB9t-6d",
      "metadata": {
        "id": "GSc8lLB9t-6d"
      },
      "source": [
        "# Confusion Matrix"
      ]
    },
    {
      "cell_type": "code",
      "execution_count": 29,
      "id": "XsTyCv8btf5h",
      "metadata": {
        "colab": {
          "base_uri": "https://localhost:8080/"
        },
        "id": "XsTyCv8btf5h",
        "outputId": "c729665f-2994-4bd3-8b7a-846af0e0de69"
      },
      "outputs": [
        {
          "name": "stdout",
          "output_type": "stream",
          "text": [
            "[[19  1  0]\n",
            " [ 0 20  0]\n",
            " [ 1  0 19]]\n"
          ]
        }
      ],
      "source": [
        "from sklearn.metrics import confusion_matrix\n",
        "cm = confusion_matrix(test_test,test_pred)\n",
        "print(cm)"
      ]
    },
    {
      "cell_type": "code",
      "execution_count": 30,
      "id": "Pd_aObmEtt_b",
      "metadata": {
        "colab": {
          "base_uri": "https://localhost:8080/",
          "height": 449
        },
        "id": "Pd_aObmEtt_b",
        "outputId": "9c628e27-ecd3-45da-fde1-bf610225aa17"
      },
      "outputs": [
        {
          "data": {
            "text/plain": [
              "<matplotlib.axes._subplots.AxesSubplot at 0x7fa7322fe850>"
            ]
          },
          "execution_count": 30,
          "metadata": {
            "tags": []
          },
          "output_type": "execute_result"
        },
        {
          "data": {
            "image/png": "[encoded data removed]",
            "text/plain": [
              "<Figure size 1080x504 with 2 Axes>"
            ]
          },
          "metadata": {
            "needs_background": "light",
            "tags": []
          },
          "output_type": "display_data"
        }
      ],
      "source": [
        "plt.subplots(figsize=(15,7))\n",
        "sns.heatmap(cm, annot= True, linewidth=1, cmap=\"CMRmap\")"
      ]
    },
    {
      "cell_type": "markdown",
      "id": "9wkotb1VrEfE",
      "metadata": {
        "id": "9wkotb1VrEfE"
      },
      "source": [
        "# Accuracy"
      ]
    },
    {
      "cell_type": "code",
      "execution_count": 35,
      "id": "still-alloy",
      "metadata": {
        "colab": {
          "base_uri": "https://localhost:8080/"
        },
        "execution": {
          "iopub.execute_input": "2021-05-04T10:26:33.362730Z",
          "iopub.status.busy": "2021-05-04T10:26:33.362038Z",
          "iopub.status.idle": "2021-05-04T10:26:33.370187Z",
          "shell.execute_reply": "2021-05-04T10:26:33.369190Z"
        },
        "id": "still-alloy",
        "outputId": "5833575a-a686-450f-a19c-b977bdf59901",
        "papermill": {
          "duration": 0.083933,
          "end_time": "2021-05-04T10:26:33.370498",
          "exception": false,
          "start_time": "2021-05-04T10:26:33.286565",
          "status": "completed"
        },
        "tags": []
      },
      "outputs": [
        {
          "name": "stdout",
          "output_type": "stream",
          "text": [
            "Model Accuracy :  0.9706666666666667\n"
          ]
        }
      ],
      "source": [
        "accuracy=accuracy_score(test_test,test_pred)\n",
        "print(\"Model Accuracy : \",accuracy)"
      ]
    },
    {
      "cell_type": "markdown",
      "id": "nW7f42gXrG1k",
      "metadata": {
        "id": "nW7f42gXrG1k"
      },
      "source": [
        "# Classification Report"
      ]
    },
    {
      "cell_type": "code",
      "execution_count": 32,
      "id": "square-freedom",
      "metadata": {
        "colab": {
          "base_uri": "https://localhost:8080/"
        },
        "id": "square-freedom",
        "outputId": "b6afa3d9-ad32-4717-e664-e1e94804841f",
        "papermill": {
          "duration": 0.070907,
          "end_time": "2021-05-04T10:26:33.514885",
          "exception": false,
          "start_time": "2021-05-04T10:26:33.443978",
          "status": "completed"
        },
        "tags": []
      },
      "outputs": [
        {
          "name": "stdout",
          "output_type": "stream",
          "text": [
            "              precision    recall  f1-score   support\n",
            "\n",
            "           0       0.95      0.95      0.95        20\n",
            "           1       0.95      1.00      0.98        20\n",
            "           2       1.00      0.95      0.97        20\n",
            "\n",
            "    accuracy                           0.97        60\n",
            "   macro avg       0.97      0.97      0.97        60\n",
            "weighted avg       0.97      0.97      0.97        60\n",
            "\n"
          ]
        }
      ],
      "source": [
        "print(classification_report(test_test,test_pred))"
      ]
    },
    {
      "cell_type": "markdown",
      "id": "R57lohWzrKPU",
      "metadata": {
        "id": "R57lohWzrKPU"
      },
      "source": [
        "# This Model can Successfully Detects The Disease of a Rice Leaf with an Accuracy of 97%"
      ]
    },
    {
      "cell_type": "code",
      "execution_count": null,
      "id": "zx4-YCcKxANV",
      "metadata": {
        "id": "zx4-YCcKxANV"
      },
      "outputs": [],
      "source": []
    }
  ],
  "metadata": {
    "accelerator": "GPU",
    "colab": {
      "collapsed_sections": [],
      "machine_shape": "hm",
      "name": "rice leaf disease detection with resnet50v2.ipynb",
      "provenance": []
    },
    "kernelspec": {
      "display_name": "Python 3",
      "language": "python",
      "name": "python3"
    },
    "language_info": {
      "codemirror_mode": {
        "name": "ipython",
        "version": 3
      },
      "file_extension": ".py",
      "mimetype": "text/x-python",
      "name": "python",
      "nbconvert_exporter": "python",
      "pygments_lexer": "ipython3",
      "version": "3.7.10"
    },
    "papermill": {
      "default_parameters": {},
      "duration": 176.977553,
      "end_time": "2021-05-04T10:26:35.697012",
      "environment_variables": {},
      "exception": null,
      "input_path": "__notebook__.ipynb",
      "output_path": "__notebook__.ipynb",
      "parameters": {},
      "start_time": "2021-05-04T10:23:38.719459",
      "version": "2.3.3"
    }
  },
  "nbformat": 4,
  "nbformat_minor": 5
}
